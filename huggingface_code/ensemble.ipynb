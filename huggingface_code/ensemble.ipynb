{
 "cells": [
  {
   "cell_type": "markdown",
   "metadata": {},
   "source": [
    "### 앙상블 사용법\n",
    "클래스는 `ensemble.py`에서 확인  \n",
    "\n",
    "**`config_paths`**  \n",
    "fine-tuning 시 사용했던 config.yaml의 경로를 string list로 입력  \n",
    "이때 모델과 config.yaml은 해당 위치의 `models`라는 폴더 안에 넣어두기  \n",
    "config.yaml의 model_name에서 배포자명을 제외한 모델의 이름과 저장한 pt 파일의 이름이 일치하도록 하기(문제가 된다면 수정 예정)  \n",
    "- 예:  \n",
    "  ```yaml\n",
    "  model_name: klue/roberta-small\n",
    "  ...\n",
    "  ```\n",
    "  위와 같이 지정된 경우, 저장된 모델의 이름은 `roberta-small.pt`\n",
    "\n",
    "**`base_predictions()`**  \n",
    "fine-tuning을 수행한 LLM들을 사용해서 base predictions를 추출  \n",
    "데이터 개수만큼의 행, 모델 수만큼의 열이 생성  \n",
    "\n",
    "**`stacking`, `kfold_stacking`, `soft_voting`**  \n",
    "각각 기본 stacking, soft voting, kfold stacking으로 메타 모델을 학습  \n",
    "clf 인자에 'linear'를 입력하면 LinearRegression을, 'lgbm'을 입력하면 LightBGM 모델을 사용하고 클래스의 멤버 변수로 등록  \n",
    "clf를 바꾸고 싶다면 clf 인자를 변경해서 함수를 다시 호출하면 됨  \n",
    "kfold stacking은 원래 kfold를 적용한 데이터로 LLM부터 학습해야 하지만 시간 관계 상, 리소스 관계 상 메타 모델에만 k-fold를 적용하는 방식으로 구현  \n",
    "n 값으로 몇 개의 fold를 사용할지 지정  \n",
    "\n",
    "**`inference`**  \n",
    "sample_submission.csv를 읽어와 앙상블 결과 저장  \n",
    "is_voting이 True이면 soft voting 결과를 사용하고, False이면 stacking과 kfold_stacking 중 가장 마지막에 사용한 classifier를 기준으로 추론 수행  \n",
    "\n",
    "**`simulate`**  \n",
    "임의로 두 개의 문장을 생성하여 추론을 수행하면 라벨 값이 출력  \n",
    "마찬가지로 is_voting이 True이면 voting의 결과를 사용하고, False이면 stacking과 kfold stacking 중 가장 마지막에 사용한 classifier를 기준으로 수행  \n",
    "앙상블에 사용한 모델의 base prediction과 최종 앙상블 결과가 함께 반환  \n",
    "이 때 base prediction은 config_paths에서 지정한 순서와 같은 순서로 저장됨  "
   ]
  },
  {
   "cell_type": "code",
   "execution_count": 8,
   "metadata": {},
   "outputs": [
    {
     "name": "stdout",
     "output_type": "stream",
     "text": [
      "========== base predicting train data ==========\n",
      "+++++ Right now using \"deliciouscat/kf-deberta-base-cross-sts\" +++++\n"
     ]
    },
    {
     "name": "stderr",
     "output_type": "stream",
     "text": [
      "tokenization: 100%|██████████| 9324/9324 [00:03<00:00, 2859.44it/s]\n",
      "base prediction: 100%|██████████| 583/583 [02:13<00:00,  4.37it/s]\n"
     ]
    },
    {
     "name": "stdout",
     "output_type": "stream",
     "text": [
      "+++++ Right now using \"snunlp/KR-ELECTRA-discriminator\" +++++\n"
     ]
    },
    {
     "name": "stderr",
     "output_type": "stream",
     "text": [
      "/opt/conda/lib/python3.10/site-packages/transformers/tokenization_utils_base.py:1601: FutureWarning: `clean_up_tokenization_spaces` was not set. It will be set to `True` by default. This behavior will be depracted in transformers v4.45, and will be then set to `False` by default. For more details check this issue: https://github.com/huggingface/transformers/issues/31884\n",
      "  warnings.warn(\n",
      "tokenization: 100%|██████████| 9324/9324 [00:03<00:00, 2875.49it/s]\n",
      "base prediction: 100%|██████████| 1166/1166 [01:31<00:00, 12.79it/s]\n"
     ]
    },
    {
     "name": "stdout",
     "output_type": "stream",
     "text": [
      "\n",
      "\n",
      "========== base predicting valid data ==========\n",
      "+++++ Right now using \"deliciouscat/kf-deberta-base-cross-sts\" +++++\n"
     ]
    },
    {
     "name": "stderr",
     "output_type": "stream",
     "text": [
      "tokenization: 100%|██████████| 550/550 [00:00<00:00, 2971.76it/s]\n",
      "base prediction: 100%|██████████| 35/35 [00:07<00:00,  4.44it/s]\n"
     ]
    },
    {
     "name": "stdout",
     "output_type": "stream",
     "text": [
      "+++++ Right now using \"snunlp/KR-ELECTRA-discriminator\" +++++\n"
     ]
    },
    {
     "name": "stderr",
     "output_type": "stream",
     "text": [
      "/opt/conda/lib/python3.10/site-packages/transformers/tokenization_utils_base.py:1601: FutureWarning: `clean_up_tokenization_spaces` was not set. It will be set to `True` by default. This behavior will be depracted in transformers v4.45, and will be then set to `False` by default. For more details check this issue: https://github.com/huggingface/transformers/issues/31884\n",
      "  warnings.warn(\n",
      "tokenization: 100%|██████████| 550/550 [00:00<00:00, 3041.87it/s]\n",
      "base prediction: 100%|██████████| 69/69 [00:05<00:00, 12.83it/s]\n"
     ]
    },
    {
     "name": "stdout",
     "output_type": "stream",
     "text": [
      "\n",
      "\n",
      "========== base predicting test data ==========\n",
      "+++++ Right now using \"deliciouscat/kf-deberta-base-cross-sts\" +++++\n"
     ]
    },
    {
     "name": "stderr",
     "output_type": "stream",
     "text": [
      "tokenization: 100%|██████████| 1100/1100 [00:00<00:00, 3013.89it/s]\n",
      "base prediction: 100%|██████████| 1100/1100 [00:31<00:00, 35.19it/s]\n"
     ]
    },
    {
     "name": "stdout",
     "output_type": "stream",
     "text": [
      "+++++ Right now using \"snunlp/KR-ELECTRA-discriminator\" +++++\n"
     ]
    },
    {
     "name": "stderr",
     "output_type": "stream",
     "text": [
      "/opt/conda/lib/python3.10/site-packages/transformers/tokenization_utils_base.py:1601: FutureWarning: `clean_up_tokenization_spaces` was not set. It will be set to `True` by default. This behavior will be depracted in transformers v4.45, and will be then set to `False` by default. For more details check this issue: https://github.com/huggingface/transformers/issues/31884\n",
      "  warnings.warn(\n",
      "tokenization: 100%|██████████| 1100/1100 [00:00<00:00, 3028.39it/s]\n",
      "base prediction: 100%|██████████| 1100/1100 [00:16<00:00, 66.27it/s]"
     ]
    },
    {
     "name": "stdout",
     "output_type": "stream",
     "text": [
      "\n",
      "\n",
      "(9324, 2) (9324, 1)\n",
      "(550, 2) (550, 1)\n",
      "(1100, 2)\n"
     ]
    },
    {
     "name": "stderr",
     "output_type": "stream",
     "text": [
      "\n"
     ]
    }
   ],
   "source": [
    "from ensemble import Ensemble\n",
    "\n",
    "# config_paths = ['./models/kf_deberta_cross_sts_config.yaml', './models/electra-kor-base.yaml'] #9362\n",
    "config_paths = ['./models/kf_deberta_cross_sts_config.yaml', './models/KR-ELECTRA-discriminator.yaml']\n",
    "ensemble = Ensemble(config_paths=config_paths,\n",
    "                    train_path='../../train_preprocess_v1.csv',\n",
    "                    valid_path='../../dev_preprocess_v1.csv',\n",
    "                    test_path='../../test_preprocess_v1.csv')\n",
    "\n",
    "print(ensemble.X_train_base.shape, ensemble.y_train.shape)\n",
    "print(ensemble.X_valid_base.shape, ensemble.y_valid.shape)\n",
    "print(ensemble.X_test_base.shape)"
   ]
  },
  {
   "cell_type": "code",
   "execution_count": 9,
   "metadata": {},
   "outputs": [
    {
     "name": "stdout",
     "output_type": "stream",
     "text": [
      "========== linear stacking result ==========\n",
      "    train pearson sim: [0.99864953]\n",
      "    valid pearson sim: [0.93002911]\n",
      "=========================================\n",
      "\n",
      "\n",
      "========== xgboost stacking result ==========\n",
      "    train pearson sim: [0.99845927]\n",
      "    valid pearson sim: [0.9281275]\n",
      "=========================================\n",
      "\n",
      "\n",
      "========== soft voting result ==========\n",
      "    train pearson sim: [0.99503921]\n",
      "    valid pearson sim: [0.93313693]\n",
      "=========================================\n",
      "\n",
      "\n",
      "========== linear stacking result ==========\n",
      "    train pearson sim: [0.99864944]\n",
      "    valid pearson sim: [0.92997726]\n",
      "=========================================\n",
      "\n",
      "\n",
      "========== xgboost stacking result ==========\n",
      "    train pearson sim: [0.9982874]\n",
      "    valid pearson sim: [0.92768993]\n",
      "=========================================\n",
      "\n",
      "\n"
     ]
    },
    {
     "data": {
      "text/plain": [
       "(array([0.9982874]), array([0.92768993]))"
      ]
     },
     "execution_count": 9,
     "metadata": {},
     "output_type": "execute_result"
    }
   ],
   "source": [
    "ensemble.stacking(clf=\"linear\")\n",
    "ensemble.stacking(clf=\"xgboost\")\n",
    "ensemble.soft_voting()\n",
    "ensemble.kfold_stacking(\"linear\", 3)\n",
    "ensemble.kfold_stacking(\"xgboost\", 3)"
   ]
  },
  {
   "cell_type": "code",
   "execution_count": 10,
   "metadata": {},
   "outputs": [
    {
     "name": "stdout",
     "output_type": "stream",
     "text": [
      "saved ensemble_output.csv\n"
     ]
    }
   ],
   "source": [
    "# ensemble.stacking(\"linear\")\n",
    "ensemble.inference(is_voting=True, submission_path='../../sample_submission.csv')"
   ]
  },
  {
   "cell_type": "code",
   "execution_count": 14,
   "metadata": {},
   "outputs": [
    {
     "name": "stdout",
     "output_type": "stream",
     "text": [
      "Now Using deliciouscat/kf-deberta-base-cross-sts\n",
      "Now Using snunlp/KR-ELECTRA-discriminator\n"
     ]
    },
    {
     "name": "stderr",
     "output_type": "stream",
     "text": [
      "/opt/conda/lib/python3.10/site-packages/transformers/tokenization_utils_base.py:1601: FutureWarning: `clean_up_tokenization_spaces` was not set. It will be set to `True` by default. This behavior will be depracted in transformers v4.45, and will be then set to `False` by default. For more details check this issue: https://github.com/huggingface/transformers/issues/31884\n",
      "  warnings.warn(\n"
     ]
    },
    {
     "name": "stdout",
     "output_type": "stream",
     "text": [
      "Now Using deliciouscat/kf-deberta-base-cross-sts\n",
      "Now Using snunlp/KR-ELECTRA-discriminator\n",
      "base predictions: [[ 0.1 -0. ]], voting prediction: [0.], stacking prediction: [1.7]\n"
     ]
    }
   ],
   "source": [
    "import numpy as np\n",
    "\n",
    "sentence_1 = \"손 틈 새로 비치는\"\n",
    "sentence_2 = \"아이유 참 좋다\"\n",
    "voting_base, voting_ensemble = ensemble.simulate(sentence_1, sentence_2, True)\n",
    "_, stacking_ensemble = ensemble.simulate(sentence_1, sentence_2, False)\n",
    "\n",
    "print(f\"base predictions: {np.round(voting_base, 1)}, voting prediction: {voting_ensemble}, stacking prediction: {stacking_ensemble}\")"
   ]
  },
  {
   "cell_type": "code",
   "execution_count": null,
   "metadata": {},
   "outputs": [],
   "source": []
  }
 ],
 "metadata": {
  "kernelspec": {
   "display_name": "base",
   "language": "python",
   "name": "python3"
  },
  "language_info": {
   "codemirror_mode": {
    "name": "ipython",
    "version": 3
   },
   "file_extension": ".py",
   "mimetype": "text/x-python",
   "name": "python",
   "nbconvert_exporter": "python",
   "pygments_lexer": "ipython3",
   "version": "3.11.9"
  }
 },
 "nbformat": 4,
 "nbformat_minor": 2
}
