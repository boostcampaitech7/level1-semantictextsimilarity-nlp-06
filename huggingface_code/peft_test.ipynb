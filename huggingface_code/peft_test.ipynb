{
 "cells": [
  {
   "cell_type": "markdown",
   "metadata": {},
   "source": [
    "### LoRA\n",
    "학습 시에는 일부 파라미터만 튜닝하지만, 해당 파라미터를 원래 모델에 얹는 형식이기 때문에 추론 시에는 원래 사용되는 모델의 사용량만큼의 리소스를 사용하게 됨"
   ]
  },
  {
   "cell_type": "markdown",
   "metadata": {},
   "source": [
    "**`r`**  \n",
    "- 원래의 모델을 작은 rank로 분해할 때 사용하는 매개변수로, 행렬에서 독립인 행 또는 열의 수를 의미  \n",
    "- 커지면 학습 시간과 학습 파라미터 수가 증가, 작아지면 연산량이 줄어들지만 성능이 낮아질 수 있음  \n",
    "- 하지만 r 값이 커진다고 해서 항상 성능 향상을 보장하는 것은 아님  \n",
    "\n",
    "**`lora_alpha`**  \n",
    "- rank와 함께 사용되는 변수  \n",
    "- 학습한 low rank의 파라미터를 가중치 몇을 곱해서 모델에 반영할 것인지 즉, fine-tuning한 파라미터들의 영향력을 얼마나 키울 것인지  "
   ]
  },
  {
   "cell_type": "code",
   "execution_count": 1,
   "metadata": {},
   "outputs": [
    {
     "name": "stderr",
     "output_type": "stream",
     "text": [
      "/opt/conda/lib/python3.10/site-packages/tqdm/auto.py:21: TqdmWarning: IProgress not found. Please update jupyter and ipywidgets. See https://ipywidgets.readthedocs.io/en/stable/user_install.html\n",
      "  from .autonotebook import tqdm as notebook_tqdm\n"
     ]
    }
   ],
   "source": [
    "from peft import LoraConfig, TaskType\n",
    "\n",
    "peft_config = LoraConfig(task_type=TaskType.SEQ_CLS,\n",
    "                         inference_mode=False,\n",
    "                         r=8,\n",
    "                         lora_alpha=16,\n",
    "                         lora_dropout=0.1)"
   ]
  },
  {
   "cell_type": "code",
   "execution_count": 2,
   "metadata": {},
   "outputs": [
    {
     "name": "stderr",
     "output_type": "stream",
     "text": [
      "Some weights of RobertaForSequenceClassification were not initialized from the model checkpoint at klue/roberta-large and are newly initialized: ['classifier.dense.bias', 'classifier.dense.weight', 'classifier.out_proj.bias', 'classifier.out_proj.weight']\n",
      "You should probably TRAIN this model on a down-stream task to be able to use it for predictions and inference.\n"
     ]
    }
   ],
   "source": [
    "from transformers import AutoModelForSequenceClassification\n",
    "\n",
    "model = AutoModelForSequenceClassification.from_pretrained(\"klue/roberta-large\", num_labels=1)"
   ]
  },
  {
   "cell_type": "code",
   "execution_count": 3,
   "metadata": {},
   "outputs": [
    {
     "name": "stdout",
     "output_type": "stream",
     "text": [
      "trainable params: 1,837,057 || all params: 338,494,466 || trainable%: 0.5427\n"
     ]
    }
   ],
   "source": [
    "from peft import get_peft_model\n",
    "\n",
    "model = get_peft_model(model, peft_config)\n",
    "model.print_trainable_parameters()"
   ]
  },
  {
   "cell_type": "code",
   "execution_count": 4,
   "metadata": {},
   "outputs": [
    {
     "name": "stderr",
     "output_type": "stream",
     "text": [
      "/opt/conda/lib/python3.10/site-packages/transformers/tokenization_utils_base.py:1601: FutureWarning: `clean_up_tokenization_spaces` was not set. It will be set to `True` by default. This behavior will be depracted in transformers v4.45, and will be then set to `False` by default. For more details check this issue: https://github.com/huggingface/transformers/issues/31884\n",
      "  warnings.warn(\n",
      "tokenization: 100%|██████████| 9324/9324 [00:03<00:00, 2713.26it/s]\n",
      "/opt/conda/lib/python3.10/site-packages/transformers/tokenization_utils_base.py:1601: FutureWarning: `clean_up_tokenization_spaces` was not set. It will be set to `True` by default. This behavior will be depracted in transformers v4.45, and will be then set to `False` by default. For more details check this issue: https://github.com/huggingface/transformers/issues/31884\n",
      "  warnings.warn(\n",
      "tokenization: 100%|██████████| 550/550 [00:00<00:00, 2634.20it/s]\n"
     ]
    }
   ],
   "source": [
    "from dataset import preprocess\n",
    "\n",
    "train_data = preprocess(task=\"train\", data_path='../../train.csv', model_name='klue/roberta-large')\n",
    "valid_data = preprocess(task=\"train\", data_path='../../dev.csv', model_name='klue/roberta-large')"
   ]
  },
  {
   "cell_type": "code",
   "execution_count": 5,
   "metadata": {},
   "outputs": [
    {
     "name": "stderr",
     "output_type": "stream",
     "text": [
      "Detected kernel version 5.4.0, which is below the recommended minimum of 5.5.0; this can cause the process to hang. It is recommended to upgrade the kernel to the minimum version or higher.\n"
     ]
    }
   ],
   "source": [
    "import numpy as np\n",
    "from scipy.stats import pearsonr\n",
    "from transformers import TrainingArguments, Trainer\n",
    "\n",
    "def compute_metrics(eval_pred):\n",
    "    logits, labels = eval_pred\n",
    "    \n",
    "    predictions = logits.squeeze()\n",
    "    labels = np.array(labels)\n",
    "\n",
    "    pearson_corr, _ = pearsonr(predictions, labels)\n",
    "\n",
    "    return {\"pearson_corr\": pearson_corr}\n",
    "\n",
    "training_arguments = TrainingArguments(\n",
    "    output_dir='./peft/',\n",
    "    overwrite_output_dir=True,\n",
    "    num_train_epochs=10,\n",
    "    learning_rate=1e-3,\n",
    "    weight_decay=0.01,\n",
    "    eval_strategy=\"epoch\",\n",
    "    per_device_train_batch_size=16,\n",
    "    per_device_eval_batch_size=16,\n",
    "    lr_scheduler_type='cosine', # 'linear', 'cosine', 'cosine_with_restarts', 'polynomial', 'constant', 'constant_with_warmup', 'inverse_sqrt'\n",
    ")\n",
    "\n",
    "trainer = Trainer(\n",
    "    model=model,\n",
    "    args=training_arguments,\n",
    "    train_dataset=train_data,\n",
    "    eval_dataset=valid_data,\n",
    "    compute_metrics=compute_metrics,\n",
    ")"
   ]
  },
  {
   "cell_type": "code",
   "execution_count": 6,
   "metadata": {},
   "outputs": [
    {
     "name": "stderr",
     "output_type": "stream",
     "text": [
      "\u001b[34m\u001b[1mwandb\u001b[0m: \u001b[33mWARNING\u001b[0m The `run_name` is currently set to the same value as `TrainingArguments.output_dir`. If this was not intended, please specify a different run name by setting the `TrainingArguments.run_name` parameter.\n",
      "\u001b[34m\u001b[1mwandb\u001b[0m: Using wandb-core as the SDK backend. Please refer to https://wandb.me/wandb-core for more information.\n",
      "\u001b[34m\u001b[1mwandb\u001b[0m: Currently logged in as: \u001b[33moceann0315\u001b[0m (\u001b[33moceann010315\u001b[0m). Use \u001b[1m`wandb login --relogin`\u001b[0m to force relogin\n"
     ]
    },
    {
     "data": {
      "text/html": [
       "Tracking run with wandb version 0.18.1"
      ],
      "text/plain": [
       "<IPython.core.display.HTML object>"
      ]
     },
     "metadata": {},
     "output_type": "display_data"
    },
    {
     "data": {
      "text/html": [
       "Run data is saved locally in <code>/data/ephemeral/home/osh/BaseLine-for-HuggingFace/wandb/run-20240923_121301-inimdscu</code>"
      ],
      "text/plain": [
       "<IPython.core.display.HTML object>"
      ]
     },
     "metadata": {},
     "output_type": "display_data"
    },
    {
     "data": {
      "text/html": [
       "Syncing run <strong><a href='https://wandb.ai/oceann010315/huggingface/runs/inimdscu' target=\"_blank\">./peft/</a></strong> to <a href='https://wandb.ai/oceann010315/huggingface' target=\"_blank\">Weights & Biases</a> (<a href='https://wandb.me/run' target=\"_blank\">docs</a>)<br/>"
      ],
      "text/plain": [
       "<IPython.core.display.HTML object>"
      ]
     },
     "metadata": {},
     "output_type": "display_data"
    },
    {
     "data": {
      "text/html": [
       " View project at <a href='https://wandb.ai/oceann010315/huggingface' target=\"_blank\">https://wandb.ai/oceann010315/huggingface</a>"
      ],
      "text/plain": [
       "<IPython.core.display.HTML object>"
      ]
     },
     "metadata": {},
     "output_type": "display_data"
    },
    {
     "data": {
      "text/html": [
       " View run at <a href='https://wandb.ai/oceann010315/huggingface/runs/inimdscu' target=\"_blank\">https://wandb.ai/oceann010315/huggingface/runs/inimdscu</a>"
      ],
      "text/plain": [
       "<IPython.core.display.HTML object>"
      ]
     },
     "metadata": {},
     "output_type": "display_data"
    },
    {
     "data": {
      "text/html": [
       "\n",
       "    <div>\n",
       "      \n",
       "      <progress value='126' max='5830' style='width:300px; height:20px; vertical-align: middle;'></progress>\n",
       "      [ 126/5830 02:17 < 1:45:37, 0.90 it/s, Epoch 0.21/10]\n",
       "    </div>\n",
       "    <table border=\"1\" class=\"dataframe\">\n",
       "  <thead>\n",
       " <tr style=\"text-align: left;\">\n",
       "      <th>Epoch</th>\n",
       "      <th>Training Loss</th>\n",
       "      <th>Validation Loss</th>\n",
       "    </tr>\n",
       "  </thead>\n",
       "  <tbody>\n",
       "  </tbody>\n",
       "</table><p>"
      ],
      "text/plain": [
       "<IPython.core.display.HTML object>"
      ]
     },
     "metadata": {},
     "output_type": "display_data"
    }
   ],
   "source": [
    "trainer.train()"
   ]
  },
  {
   "cell_type": "code",
   "execution_count": null,
   "metadata": {},
   "outputs": [],
   "source": [
    "from peft import AutoPeftModelForSequenceClassification\n",
    "import os\n",
    "import json\n",
    "from torch.utils.data import DataLoader\n",
    "import torch\n",
    "from pandas import read_csv\n",
    "\n",
    "model_path = './peft/checkpoint-10000'\n",
    "\n",
    "with open(os.path.join(model_path, 'adapter_config.json')) as f:\n",
    "        model_config = json.load(f)\n",
    "    \n",
    "model = AutoPeftModelForSequenceClassification.from_pretrained(model_path, num_labels=1)\n",
    "\n",
    "test_data = preprocess(task=\"test\", data_path='../../../data/test.csv', model_name=model_config['base_model_name_or_path'])\n",
    "test_loader = DataLoader(test_data, shuffle=False)\n",
    "\n",
    "device = 'cuda' if torch.cuda.is_available else 'cpu'\n",
    "model.to(device)\n",
    "\n",
    "outputs = []\n",
    "for batch in test_loader:\n",
    "    batch = {k: v.to(device) for k, v in batch.items()}\n",
    "    with torch.no_grad():\n",
    "        predictions = model(**batch)\n",
    "        outputs.append(predictions.logits)\n",
    "\n",
    "outputs = list(round(float(i), 1) for i in torch.cat(outputs))\n",
    "\n",
    "sample_csv = read_csv('../../sample_submission.csv')\n",
    "sample_csv['target'] = outputs\n",
    "\n",
    "sample_csv.to_csv(os.path.join(model_path, 'output.csv'), index=False)"
   ]
  }
 ],
 "metadata": {
  "kernelspec": {
   "display_name": "baseline",
   "language": "python",
   "name": "python3"
  },
  "language_info": {
   "codemirror_mode": {
    "name": "ipython",
    "version": 3
   },
   "file_extension": ".py",
   "mimetype": "text/x-python",
   "name": "python",
   "nbconvert_exporter": "python",
   "pygments_lexer": "ipython3",
   "version": "3.11.9"
  }
 },
 "nbformat": 4,
 "nbformat_minor": 2
}
